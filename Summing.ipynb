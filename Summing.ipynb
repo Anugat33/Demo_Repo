{
 "cells": [
  {
   "cell_type": "code",
   "execution_count": null,
   "id": "a7231ae5-801c-4482-9f53-2650f34154ad",
   "metadata": {
    "editable": false,
    "tags": [
     "o9_ignore"
    ]
   },
   "outputs": [],
   "source": [
    "# This cell is NOT editable. Overwrite variables on your own discretion.\n",
    "# Any changes other than the script code will NOT BE SAVED!\n",
    "# All cells are assumed to be script code cells, unless explictly tagged as 'o9_ignore'"
   ]
  },
  {
   "cell_type": "code",
   "execution_count": null,
   "id": "3d3efb81-c108-49c7-bf4b-cc036a13efa3",
   "metadata": {
    "tags": [
     "o9_ignore"
    ]
   },
   "outputs": [],
   "source": [
    "Data1 = %ibpl Select ([Product].[SKU] * [Customer].[Account] * [Time].[Month] * [Version].[Version Name].[CurrentWorkingView] * {Measure.[Consumption]});\n",
    "Data1.info()  # Printing info for the primary table\n",
    "Data2 = %ibpl Select ([Product].[SKU] * [Customer].[Account] * [Time].[Month] * [Version].[Version Name].[CurrentWorkingView] * {Measure.[Shipment]});\n",
    "\n",
    "\n",
    "# Initialize the O9DataLake with the input parameters and dataframes\n",
    "# Data can be accessed with O9DataLake.get(<Input Name>)\n",
    "# Overwritten values will not be reflected in the O9DataLake after initialization\n",
    "\n",
    "from o9_common_utils.O9DataLake import O9DataLake\n",
    "O9DataLake.init_data_lake({'Data1': Data1, 'Data2': Data2})"
   ]
  },
  {
   "cell_type": "code",
   "execution_count": null,
   "id": "09ceb585-a467-43e6-a90e-c03786c73eda",
   "metadata": {},
   "outputs": [],
   "source": [
    "import pandas as pd\n",
    "import numpy as np\n",
    "\n",
    "\n",
    "m = Data1\n",
    "n = Data2\n",
    "m['Consumption'].head()\n",
    "m['Consumption'].head()\n",
    "n.head()\n",
    "Sum = m['Consumption'] + n['Shipment']\n",
    "\n",
    "SumOutput = m\n",
    "SumOutput.head()\n",
    "SumOutput = SumOutput.drop(['Consumption'], axis = 'columns')\n",
    "SumOutput['SumOutput'] = Sum\n",
    "SumOutput.head()"
   ]
  },
  {
   "cell_type": "code",
   "execution_count": null,
   "id": "796cae0e-a54a-458a-b09d-5bee8f3fb951",
   "metadata": {},
   "outputs": [],
   "source": []
  }
 ],
 "metadata": {
  "kernelspec": {
   "display_name": "Python 3",
   "language": "python",
   "name": "python3"
  },
  "language_info": {
   "codemirror_mode": {
    "name": "ipython",
    "version": 3
   },
   "file_extension": ".py",
   "mimetype": "text/x-python",
   "name": "python",
   "nbconvert_exporter": "python",
   "pygments_lexer": "ipython3",
   "version": "3.7.10"
  }
 },
 "nbformat": 4,
 "nbformat_minor": 5
}
